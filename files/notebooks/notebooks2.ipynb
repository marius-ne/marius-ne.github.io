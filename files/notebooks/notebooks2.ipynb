{
 "cells": [
  {
   "cell_type": "markdown",
   "id": "0a0fca81",
   "metadata": {},
   "source": [
    "# KECK"
   ]
  },
  {
   "cell_type": "code",
   "execution_count": 1,
   "id": "2e15a62c",
   "metadata": {},
   "outputs": [
    {
     "name": "stdout",
     "output_type": "stream",
     "text": [
      "keck\n"
     ]
    }
   ],
   "source": [
    "\n",
    "print(\"keck\")"
   ]
  },
  {
   "cell_type": "markdown",
   "id": "f4297039",
   "metadata": {},
   "source": []
  },
  {
   "cell_type": "code",
   "execution_count": null,
   "id": "f26952c3",
   "metadata": {},
   "outputs": [],
   "source": []
  }
 ],
 "metadata": {
  "kernelspec": {
   "display_name": "marius-ne-github-io-rIhID9px-py3.13",
   "language": "python",
   "name": "python3"
  },
  "language_info": {
   "codemirror_mode": {
    "name": "ipython",
    "version": 3
   },
   "file_extension": ".py",
   "mimetype": "text/x-python",
   "name": "python",
   "nbconvert_exporter": "python",
   "pygments_lexer": "ipython3",
   "version": "3.13.2"
  }
 },
 "nbformat": 4,
 "nbformat_minor": 5
}
